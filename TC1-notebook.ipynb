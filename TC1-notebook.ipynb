{
 "cells": [
  {
   "cell_type": "markdown",
   "metadata": {},
   "source": [
    "# Projet de TC1 : Apprentissage (Master AIC 2018/2019)\n",
    "\n",
    "Le but de ce projet est de résoudre, de la façon la plus adéquate au challenge Kaggle \"Otto Group Product Classification Challenge\". \n",
    "\n",
    "Lien : https://www.kaggle.com/c/otto-group-product-classification-challenge)\n",
    "\n",
    "Le présent Notebook a été entiérement développé en Python 3.7 et nécessite diverses librairies telles que Numpy, Matplotlib ou Pandas."
   ]
  },
  {
   "cell_type": "code",
   "execution_count": 1,
   "metadata": {},
   "outputs": [],
   "source": [
    "import pandas as pd\n",
    "\n",
    "import numpy as np\n",
    "\n",
    "import matplotlib.pyplot as plt\n",
    "\n",
    "from sklearn.ensemble import RandomForestClassifier, BaggingClassifier\n",
    "\n",
    "from sklearn.linear_model import LogisticRegression\n",
    "\n",
    "from sklearn.metrics import log_loss"
   ]
  },
  {
   "cell_type": "code",
   "execution_count": 2,
   "metadata": {},
   "outputs": [],
   "source": [
    "import warnings\n",
    "from sklearn.exceptions import DataConversionWarning\n",
    "warnings.simplefilter(action='ignore', category=FutureWarning)\n",
    "warnings.simplefilter(action='ignore', category=RuntimeWarning)\n",
    "warnings.simplefilter(action='ignore', category=DataConversionWarning)"
   ]
  },
  {
   "cell_type": "markdown",
   "metadata": {},
   "source": [
    "## Récupération et exploration des données\n",
    "\n",
    "L'objectif de cette étape est de récupérer les données du challenge, et de les créer dans les variables pertinentes afin que ces données soient aisément utiliseables.\n",
    "\n",
    "A noter qu'il n'y a pas besoin de standardiser les données (en utilisant sklearn.preprocessing.StandardScaler) car les données fournies par le site Kaggle le sont déjà.\n",
    "\n",
    "On divise le jeu d'entraînement initial en un jeu de d'entraînement (80% des données) et un jeu de validation (20% des données)."
   ]
  },
  {
   "cell_type": "code",
   "execution_count": 3,
   "metadata": {},
   "outputs": [
    {
     "name": "stdout",
     "output_type": "stream",
     "text": [
      "Training set has 61878 rows and 94 columns\n"
     ]
    }
   ],
   "source": [
    "df_train = pd.read_csv(r\"C:\\Users\\MyPC\\Documents\\AIC-partage\\TC1\\Projet kaggle\\train.csv\", index_col = 0)\n",
    "\n",
    "print(\"Training set has {0[0]} rows and {0[1]} columns\".format(df_train.shape))"
   ]
  },
  {
   "cell_type": "code",
   "execution_count": 4,
   "metadata": {},
   "outputs": [],
   "source": [
    "df_test = pd.read_csv(r\"C:\\Users\\MyPC\\Documents\\AIC-partage\\TC1\\Projet kaggle\\test.csv\", index_col = 0)"
   ]
  },
  {
   "cell_type": "code",
   "execution_count": 5,
   "metadata": {},
   "outputs": [
    {
     "name": "stdout",
     "output_type": "stream",
     "text": [
      "    feat_1  feat_2  feat_3  feat_4  feat_5  feat_6  feat_7  feat_8  feat_9  \\\n",
      "id                                                                           \n",
      "1        1       0       0       0       0       0       0       0       0   \n",
      "2        0       0       0       0       0       0       0       1       0   \n",
      "3        0       0       0       0       0       0       0       1       0   \n",
      "4        1       0       0       1       6       1       5       0       0   \n",
      "5        0       0       0       0       0       0       0       0       0   \n",
      "\n",
      "    feat_10   ...     feat_85  feat_86  feat_87  feat_88  feat_89  feat_90  \\\n",
      "id            ...                                                            \n",
      "1         0   ...           1        0        0        0        0        0   \n",
      "2         0   ...           0        0        0        0        0        0   \n",
      "3         0   ...           0        0        0        0        0        0   \n",
      "4         1   ...           0        1        2        0        0        0   \n",
      "5         0   ...           1        0        0        0        0        1   \n",
      "\n",
      "    feat_91  feat_92  feat_93   target  \n",
      "id                                      \n",
      "1         0        0        0  Class_1  \n",
      "2         0        0        0  Class_1  \n",
      "3         0        0        0  Class_1  \n",
      "4         0        0        0  Class_1  \n",
      "5         0        0        0  Class_1  \n",
      "\n",
      "[5 rows x 94 columns]\n"
     ]
    },
    {
     "data": {
      "text/html": [
       "<div>\n",
       "<style scoped>\n",
       "    .dataframe tbody tr th:only-of-type {\n",
       "        vertical-align: middle;\n",
       "    }\n",
       "\n",
       "    .dataframe tbody tr th {\n",
       "        vertical-align: top;\n",
       "    }\n",
       "\n",
       "    .dataframe thead th {\n",
       "        text-align: right;\n",
       "    }\n",
       "</style>\n",
       "<table border=\"1\" class=\"dataframe\">\n",
       "  <thead>\n",
       "    <tr style=\"text-align: right;\">\n",
       "      <th></th>\n",
       "      <th>feat_1</th>\n",
       "      <th>feat_2</th>\n",
       "      <th>feat_3</th>\n",
       "      <th>feat_4</th>\n",
       "      <th>feat_5</th>\n",
       "      <th>feat_6</th>\n",
       "      <th>feat_7</th>\n",
       "      <th>feat_8</th>\n",
       "      <th>feat_9</th>\n",
       "      <th>feat_10</th>\n",
       "      <th>...</th>\n",
       "      <th>feat_84</th>\n",
       "      <th>feat_85</th>\n",
       "      <th>feat_86</th>\n",
       "      <th>feat_87</th>\n",
       "      <th>feat_88</th>\n",
       "      <th>feat_89</th>\n",
       "      <th>feat_90</th>\n",
       "      <th>feat_91</th>\n",
       "      <th>feat_92</th>\n",
       "      <th>feat_93</th>\n",
       "    </tr>\n",
       "  </thead>\n",
       "  <tbody>\n",
       "    <tr>\n",
       "      <th>count</th>\n",
       "      <td>61878.00000</td>\n",
       "      <td>61878.000000</td>\n",
       "      <td>61878.000000</td>\n",
       "      <td>61878.000000</td>\n",
       "      <td>61878.000000</td>\n",
       "      <td>61878.000000</td>\n",
       "      <td>61878.000000</td>\n",
       "      <td>61878.000000</td>\n",
       "      <td>61878.000000</td>\n",
       "      <td>61878.000000</td>\n",
       "      <td>...</td>\n",
       "      <td>61878.000000</td>\n",
       "      <td>61878.000000</td>\n",
       "      <td>61878.000000</td>\n",
       "      <td>61878.000000</td>\n",
       "      <td>61878.000000</td>\n",
       "      <td>61878.000000</td>\n",
       "      <td>61878.000000</td>\n",
       "      <td>61878.000000</td>\n",
       "      <td>61878.000000</td>\n",
       "      <td>61878.000000</td>\n",
       "    </tr>\n",
       "    <tr>\n",
       "      <th>mean</th>\n",
       "      <td>0.38668</td>\n",
       "      <td>0.263066</td>\n",
       "      <td>0.901467</td>\n",
       "      <td>0.779081</td>\n",
       "      <td>0.071043</td>\n",
       "      <td>0.025696</td>\n",
       "      <td>0.193704</td>\n",
       "      <td>0.662433</td>\n",
       "      <td>1.011296</td>\n",
       "      <td>0.263906</td>\n",
       "      <td>...</td>\n",
       "      <td>0.070752</td>\n",
       "      <td>0.532306</td>\n",
       "      <td>1.128576</td>\n",
       "      <td>0.393549</td>\n",
       "      <td>0.874915</td>\n",
       "      <td>0.457772</td>\n",
       "      <td>0.812421</td>\n",
       "      <td>0.264941</td>\n",
       "      <td>0.380119</td>\n",
       "      <td>0.126135</td>\n",
       "    </tr>\n",
       "    <tr>\n",
       "      <th>std</th>\n",
       "      <td>1.52533</td>\n",
       "      <td>1.252073</td>\n",
       "      <td>2.934818</td>\n",
       "      <td>2.788005</td>\n",
       "      <td>0.438902</td>\n",
       "      <td>0.215333</td>\n",
       "      <td>1.030102</td>\n",
       "      <td>2.255770</td>\n",
       "      <td>3.474822</td>\n",
       "      <td>1.083340</td>\n",
       "      <td>...</td>\n",
       "      <td>1.151460</td>\n",
       "      <td>1.900438</td>\n",
       "      <td>2.681554</td>\n",
       "      <td>1.575455</td>\n",
       "      <td>2.115466</td>\n",
       "      <td>1.527385</td>\n",
       "      <td>4.597804</td>\n",
       "      <td>2.045646</td>\n",
       "      <td>0.982385</td>\n",
       "      <td>1.201720</td>\n",
       "    </tr>\n",
       "    <tr>\n",
       "      <th>min</th>\n",
       "      <td>0.00000</td>\n",
       "      <td>0.000000</td>\n",
       "      <td>0.000000</td>\n",
       "      <td>0.000000</td>\n",
       "      <td>0.000000</td>\n",
       "      <td>0.000000</td>\n",
       "      <td>0.000000</td>\n",
       "      <td>0.000000</td>\n",
       "      <td>0.000000</td>\n",
       "      <td>0.000000</td>\n",
       "      <td>...</td>\n",
       "      <td>0.000000</td>\n",
       "      <td>0.000000</td>\n",
       "      <td>0.000000</td>\n",
       "      <td>0.000000</td>\n",
       "      <td>0.000000</td>\n",
       "      <td>0.000000</td>\n",
       "      <td>0.000000</td>\n",
       "      <td>0.000000</td>\n",
       "      <td>0.000000</td>\n",
       "      <td>0.000000</td>\n",
       "    </tr>\n",
       "    <tr>\n",
       "      <th>25%</th>\n",
       "      <td>0.00000</td>\n",
       "      <td>0.000000</td>\n",
       "      <td>0.000000</td>\n",
       "      <td>0.000000</td>\n",
       "      <td>0.000000</td>\n",
       "      <td>0.000000</td>\n",
       "      <td>0.000000</td>\n",
       "      <td>0.000000</td>\n",
       "      <td>0.000000</td>\n",
       "      <td>0.000000</td>\n",
       "      <td>...</td>\n",
       "      <td>0.000000</td>\n",
       "      <td>0.000000</td>\n",
       "      <td>0.000000</td>\n",
       "      <td>0.000000</td>\n",
       "      <td>0.000000</td>\n",
       "      <td>0.000000</td>\n",
       "      <td>0.000000</td>\n",
       "      <td>0.000000</td>\n",
       "      <td>0.000000</td>\n",
       "      <td>0.000000</td>\n",
       "    </tr>\n",
       "    <tr>\n",
       "      <th>50%</th>\n",
       "      <td>0.00000</td>\n",
       "      <td>0.000000</td>\n",
       "      <td>0.000000</td>\n",
       "      <td>0.000000</td>\n",
       "      <td>0.000000</td>\n",
       "      <td>0.000000</td>\n",
       "      <td>0.000000</td>\n",
       "      <td>0.000000</td>\n",
       "      <td>0.000000</td>\n",
       "      <td>0.000000</td>\n",
       "      <td>...</td>\n",
       "      <td>0.000000</td>\n",
       "      <td>0.000000</td>\n",
       "      <td>0.000000</td>\n",
       "      <td>0.000000</td>\n",
       "      <td>0.000000</td>\n",
       "      <td>0.000000</td>\n",
       "      <td>0.000000</td>\n",
       "      <td>0.000000</td>\n",
       "      <td>0.000000</td>\n",
       "      <td>0.000000</td>\n",
       "    </tr>\n",
       "    <tr>\n",
       "      <th>75%</th>\n",
       "      <td>0.00000</td>\n",
       "      <td>0.000000</td>\n",
       "      <td>0.000000</td>\n",
       "      <td>0.000000</td>\n",
       "      <td>0.000000</td>\n",
       "      <td>0.000000</td>\n",
       "      <td>0.000000</td>\n",
       "      <td>1.000000</td>\n",
       "      <td>0.000000</td>\n",
       "      <td>0.000000</td>\n",
       "      <td>...</td>\n",
       "      <td>0.000000</td>\n",
       "      <td>0.000000</td>\n",
       "      <td>1.000000</td>\n",
       "      <td>0.000000</td>\n",
       "      <td>1.000000</td>\n",
       "      <td>0.000000</td>\n",
       "      <td>0.000000</td>\n",
       "      <td>0.000000</td>\n",
       "      <td>0.000000</td>\n",
       "      <td>0.000000</td>\n",
       "    </tr>\n",
       "    <tr>\n",
       "      <th>max</th>\n",
       "      <td>61.00000</td>\n",
       "      <td>51.000000</td>\n",
       "      <td>64.000000</td>\n",
       "      <td>70.000000</td>\n",
       "      <td>19.000000</td>\n",
       "      <td>10.000000</td>\n",
       "      <td>38.000000</td>\n",
       "      <td>76.000000</td>\n",
       "      <td>43.000000</td>\n",
       "      <td>30.000000</td>\n",
       "      <td>...</td>\n",
       "      <td>76.000000</td>\n",
       "      <td>55.000000</td>\n",
       "      <td>65.000000</td>\n",
       "      <td>67.000000</td>\n",
       "      <td>30.000000</td>\n",
       "      <td>61.000000</td>\n",
       "      <td>130.000000</td>\n",
       "      <td>52.000000</td>\n",
       "      <td>19.000000</td>\n",
       "      <td>87.000000</td>\n",
       "    </tr>\n",
       "  </tbody>\n",
       "</table>\n",
       "<p>8 rows × 93 columns</p>\n",
       "</div>"
      ],
      "text/plain": [
       "            feat_1        feat_2        feat_3        feat_4        feat_5  \\\n",
       "count  61878.00000  61878.000000  61878.000000  61878.000000  61878.000000   \n",
       "mean       0.38668      0.263066      0.901467      0.779081      0.071043   \n",
       "std        1.52533      1.252073      2.934818      2.788005      0.438902   \n",
       "min        0.00000      0.000000      0.000000      0.000000      0.000000   \n",
       "25%        0.00000      0.000000      0.000000      0.000000      0.000000   \n",
       "50%        0.00000      0.000000      0.000000      0.000000      0.000000   \n",
       "75%        0.00000      0.000000      0.000000      0.000000      0.000000   \n",
       "max       61.00000     51.000000     64.000000     70.000000     19.000000   \n",
       "\n",
       "             feat_6        feat_7        feat_8        feat_9       feat_10  \\\n",
       "count  61878.000000  61878.000000  61878.000000  61878.000000  61878.000000   \n",
       "mean       0.025696      0.193704      0.662433      1.011296      0.263906   \n",
       "std        0.215333      1.030102      2.255770      3.474822      1.083340   \n",
       "min        0.000000      0.000000      0.000000      0.000000      0.000000   \n",
       "25%        0.000000      0.000000      0.000000      0.000000      0.000000   \n",
       "50%        0.000000      0.000000      0.000000      0.000000      0.000000   \n",
       "75%        0.000000      0.000000      1.000000      0.000000      0.000000   \n",
       "max       10.000000     38.000000     76.000000     43.000000     30.000000   \n",
       "\n",
       "           ...            feat_84       feat_85       feat_86       feat_87  \\\n",
       "count      ...       61878.000000  61878.000000  61878.000000  61878.000000   \n",
       "mean       ...           0.070752      0.532306      1.128576      0.393549   \n",
       "std        ...           1.151460      1.900438      2.681554      1.575455   \n",
       "min        ...           0.000000      0.000000      0.000000      0.000000   \n",
       "25%        ...           0.000000      0.000000      0.000000      0.000000   \n",
       "50%        ...           0.000000      0.000000      0.000000      0.000000   \n",
       "75%        ...           0.000000      0.000000      1.000000      0.000000   \n",
       "max        ...          76.000000     55.000000     65.000000     67.000000   \n",
       "\n",
       "            feat_88       feat_89       feat_90       feat_91       feat_92  \\\n",
       "count  61878.000000  61878.000000  61878.000000  61878.000000  61878.000000   \n",
       "mean       0.874915      0.457772      0.812421      0.264941      0.380119   \n",
       "std        2.115466      1.527385      4.597804      2.045646      0.982385   \n",
       "min        0.000000      0.000000      0.000000      0.000000      0.000000   \n",
       "25%        0.000000      0.000000      0.000000      0.000000      0.000000   \n",
       "50%        0.000000      0.000000      0.000000      0.000000      0.000000   \n",
       "75%        1.000000      0.000000      0.000000      0.000000      0.000000   \n",
       "max       30.000000     61.000000    130.000000     52.000000     19.000000   \n",
       "\n",
       "            feat_93  \n",
       "count  61878.000000  \n",
       "mean       0.126135  \n",
       "std        1.201720  \n",
       "min        0.000000  \n",
       "25%        0.000000  \n",
       "50%        0.000000  \n",
       "75%        0.000000  \n",
       "max       87.000000  \n",
       "\n",
       "[8 rows x 93 columns]"
      ]
     },
     "execution_count": 5,
     "metadata": {},
     "output_type": "execute_result"
    }
   ],
   "source": [
    "print(df_train.head())\n",
    "\n",
    "df_train.describe()"
   ]
  },
  {
   "cell_type": "markdown",
   "metadata": {},
   "source": [
    "On remarque que :\n",
    "- aucune donnée n'est manquante (pour toutes les features, il y a bien 61878 données)\n",
    "- toutes les données sont des 'int64' (à l'exception de la colonne target)\n",
    "- un grand nombre de données sont égales à 0 (le 3ème quartile est encore égal à 0, qui est aussi la valeur minimale, pour de nombreuses features)"
   ]
  },
  {
   "cell_type": "code",
   "execution_count": 6,
   "metadata": {},
   "outputs": [
    {
     "data": {
      "text/plain": [
       "Class_2    16122\n",
       "Class_6    14135\n",
       "Class_8     8464\n",
       "Class_3     8004\n",
       "Class_9     4955\n",
       "Class_7     2839\n",
       "Class_5     2739\n",
       "Class_4     2691\n",
       "Class_1     1929\n",
       "Name: target, dtype: int64"
      ]
     },
     "execution_count": 6,
     "metadata": {},
     "output_type": "execute_result"
    }
   ],
   "source": [
    "df_train['target'].value_counts()"
   ]
  },
  {
   "cell_type": "markdown",
   "metadata": {},
   "source": [
    "On remarque que :\n",
    "- il y a 9 classes différentes ('Class_1', 'Class_2', ..., 'Class_9')\n",
    "- certaines classes (2 et 6 notamment) sont sur-représentées dans le jeu d'entraînement fourni, en conséquences certaines classes (comme les classes 1,4,5 et 7) sont peu représentées"
   ]
  },
  {
   "cell_type": "code",
   "execution_count": 7,
   "metadata": {},
   "outputs": [
    {
     "data": {
      "image/png": "[encoded data removed]",
      "text/plain": [
       "<matplotlib.figure.Figure at 0x270433cae48>"
      ]
     },
     "metadata": {},
     "output_type": "display_data"
    }
   ],
   "source": [
    "import seaborn as sn\n",
    "sn.countplot(x='target', data=df_train)\n",
    "plt.title(\"No of Product of Each Class\")\n",
    "plt.grid()\n",
    "plt.show()"
   ]
  },
  {
   "cell_type": "code",
   "execution_count": 8,
   "metadata": {},
   "outputs": [
    {
     "name": "stdout",
     "output_type": "stream",
     "text": [
      "[[ 1  0  0 ...  0  0  0]\n",
      " [ 0  0  0 ...  0  0  0]\n",
      " [ 0  0  0 ...  0  0  0]\n",
      " ...\n",
      " [ 0  0  0 ...  0  0  0]\n",
      " [ 1  0  0 ...  3 10  0]\n",
      " [ 0  0  0 ...  0  2  0]]\n",
      "['Class_1' 'Class_1' 'Class_1' ... 'Class_9' 'Class_9' 'Class_9']\n"
     ]
    }
   ],
   "source": [
    "X = df_train.drop('target', 1).values\n",
    "y = df_train['target'].values\n",
    "print(X)\n",
    "print(y)"
   ]
  },
  {
   "cell_type": "markdown",
   "metadata": {},
   "source": [
    "## Features Selection"
   ]
  },
  {
   "cell_type": "code",
   "execution_count": 9,
   "metadata": {
    "collapsed": true
   },
   "outputs": [],
   "source": [
    "# Reduction de dimension à l'aide de ACP\n",
    "\n",
    "#Combien d'axes garde-t- on ?\n",
    "\n",
    "# Feature Extraction with PCA\n",
    "import numpy\n",
    "from pandas import read_csv\n",
    "from sklearn.decomposition import PCA\n",
    "\n",
    "\n",
    "list_var=[]\n",
    "for i in range (1, 94):\n",
    "    pca = PCA(n_components=i)\n",
    "    fit = pca.fit(X)\n",
    "    # summarize components\n",
    "    list_var.append(fit.explained_variance_ratio_)\n"
   ]
  },
  {
   "cell_type": "code",
   "execution_count": 10,
   "metadata": {},
   "outputs": [
    {
     "data": {
      "image/png": "[encoded data removed]",
      "text/plain": [
       "<matplotlib.figure.Figure at 0x22b8387f860>"
      ]
     },
     "metadata": {},
     "output_type": "display_data"
    }
   ],
   "source": [
    "# A partir de 70 composantes : majeur partie de la variance expliquée\n",
    "import matplotlib.pyplot as plt\n",
    "\n",
    "var_explique_tot=[]\n",
    "for variance in list_var:\n",
    "    s=0\n",
    "    for var in variance:\n",
    "        s= s + var\n",
    "    var_explique_tot.append(s)\n",
    "plt.plot(var_explique_tot)\n",
    "plt.title('Variance expliquée en fonction du nombre de features')\n",
    "plt.show()\n",
    "    "
   ]
  },
  {
   "cell_type": "code",
   "execution_count": 9,
   "metadata": {},
   "outputs": [
    {
     "data": {
      "text/plain": [
       "(61878, 70)"
      ]
     },
     "execution_count": 9,
     "metadata": {},
     "output_type": "execute_result"
    }
   ],
   "source": [
    "# On garde 70 axes avec la pca \n",
    "import numpy\n",
    "from pandas import read_csv\n",
    "from sklearn.decomposition import PCA\n",
    "pca = PCA(n_components=70)\n",
    "fit = pca.fit(X)\n",
    "X= pca.fit_transform(X)\n",
    "X.shape"
   ]
  },
  {
   "cell_type": "code",
   "execution_count": null,
   "metadata": {},
   "outputs": [],
   "source": [
    "# Si on ne fait pas PCA une alternative est de prendre seulement les 70 features ayant le plus fort taux de corrélations\n",
    "# pour des calculs plus rapide\n",
    "# Reduction de dimension 93 à 70 features à l'aide du score khi 2 (corrélations)\n",
    "\n",
    "from sklearn.feature_selection import SelectKBest\n",
    "from sklearn.feature_selection import chi2\n",
    "import numpy as np\n",
    "# feature extraction\n",
    "test = SelectKBest(score_func=chi2, k=70)\n",
    "fit = test.fit(X, y)\n",
    "# summarize scores\n",
    "np.set_printoptions(precision=3)\n",
    "print(fit.scores_)\n",
    "X= fit.transform(X)\n",
    "# summarize selected features\n"
   ]
  },
  {
   "cell_type": "code",
   "execution_count": null,
   "metadata": {},
   "outputs": [],
   "source": [
    "# 2 eme façon d'extraire les features importances les plus important : arbre \n",
    "\n",
    "# Feature Importance with Extra Trees Classifier\n",
    "from pandas import read_csv\n",
    "from sklearn.ensemble import ExtraTreesClassifier\n",
    "import numpy as np\n",
    "\n",
    "\n",
    "# feature extraction\n",
    "model = ExtraTreesClassifier()\n",
    "model.fit(X, y)\n",
    "print(model.feature_importances_)\n",
    "tab = model.feature_importances_\n",
    "# Récuperer les index des  70 features les plus important selon l'extra trees classifier\n",
    "index_features  = tab.argsort()[-70:][::-1]\n"
   ]
  },
  {
   "cell_type": "code",
   "execution_count": 9,
   "metadata": {},
   "outputs": [
    {
     "name": "stdout",
     "output_type": "stream",
     "text": [
      "[0 0 0 ... 8 8 8]\n"
     ]
    }
   ],
   "source": [
    "from sklearn.preprocessing import LabelEncoder\n",
    "\n",
    "y = LabelEncoder().fit_transform(y)\n",
    "print(y)"
   ]
  },
  {
   "cell_type": "markdown",
   "metadata": {},
   "source": [
    "## Préparations des données\n",
    "Standardisation et créations des points SMOTE"
   ]
  },
  {
   "cell_type": "code",
   "execution_count": 10,
   "metadata": {},
   "outputs": [],
   "source": [
    "from sklearn.model_selection import train_test_split\n",
    "from imblearn.over_sampling import SMOTE, ADASYN    #Over sampling\n",
    "from sklearn.preprocessing import StandardScaler\n",
    "sc = StandardScaler()\n",
    "\n",
    "X_train, X_valid, y_train, y_valid = train_test_split(X, y, test_size=0.2, random_state=42, stratify = y)\n",
    "X_resampled, y_resampled = SMOTE().fit_resample(X_train, y_train)\n",
    "X_resampled = sc.fit_transform(X_resampled)"
   ]
  },
  {
   "cell_type": "code",
   "execution_count": 11,
   "metadata": {},
   "outputs": [],
   "source": [
    "\n",
    "from sklearn.preprocessing import StandardScaler\n",
    "sc = StandardScaler()\n",
    "X = sc.fit_transform(X)\n",
    "X_train, X_valid, y_train, y_valid = train_test_split(X, y, test_size=0.2, random_state=42, stratify = y)\n",
    "\n",
    "\n",
    "\n",
    "#X_test = sc.fit_transform(X_test)\n"
   ]
  },
  {
   "cell_type": "markdown",
   "metadata": {},
   "source": [
    "## Fonction utilitaire pour afficher la performance d'un modèle\n",
    "\n",
    "La fonction print_performances définie ci-après, a pour objectif d'afficher certaines caractéristiques d'un model entraîné qui nous permettent de comprendre les forces et les faiblesses de ce modèle.\n",
    "\n",
    "En particulier, print_performaces affiche :\n",
    "- la logloss sur le jeu d'entraînement\n",
    "- l'accuracy sur le jeu d'entraînement\n",
    "- la logloss sur le jeu de validation\n",
    "- l'accuracy sur le jeu de validation\n",
    "- la matrice de confusion normalisée sur le jeu de validation\n",
    "\n",
    "La logloss est la fonction objective, l'objectif du présent exercice est de la minimiser.\n",
    "\n",
    "L'accuracy est la proportion de classes correctement prédites du modèle.\n",
    "\n",
    "La principale différence entre l'accuracy et la logloss est que la logloss \n",
    "\n",
    "L'intérêt d'afficher ces mesures de performances à la fois pour le jeu d'entraînement et le jeu de validation est de pouvoir aisément reconnaître des cas de surajustement. \n",
    "\n",
    "La matrice de confusion est une matrice telle que chaque colonne de la matrice représente le nombre d'occurrences d'une classe estimée, tandis que chaque ligne représente le nombre d'occurrences d'une classe réelle. Il est difficile de tirer rapidement les informations clés d'une matrice de 9x9=81 valeurs. Afin d'en simplifier la lecture, on l'affichera sous forme d'une image de 9x9 pixels. Plus un pixel est blanc, plus la valeur est élevés. De plus, on affiche la matrice normalisée : dans ce cas, un système de classification sera d'autant meilleur que sa matrice de confusion s'approchera d'une matrice diagonale"
   ]
  },
  {
   "cell_type": "code",
   "execution_count": 12,
   "metadata": {},
   "outputs": [],
   "source": [
    "from sklearn.metrics import log_loss, accuracy_score, confusion_matrix\n",
    "\n",
    "def print_performances(model): \n",
    "    \n",
    "    # Pour le jeu d'entraînement\n",
    "    y_train_pred = model.predict(X_train)\n",
    "    y_train_pred_proba = model.predict_proba(X_train)\n",
    "    print(\"JEU D'ENTRAÎNEMENT\")\n",
    "    print(\"Logloss : \" + str(log_loss(y_train, y_train_pred_proba))) # the labels in y_pred are assumed to be ordered alphabetically\n",
    "    print(\"Acccuracy : \" + str(accuracy_score(y_train_pred, y_train)))\n",
    "    \n",
    "    # Pour le jeu de validation\n",
    "    y_valid_pred = model.predict(X_valid)\n",
    "    y_valid_pred_proba = model.predict_proba(X_valid)\n",
    "    print(\"\\nJEU DE VALIDATION\")\n",
    "    print(\"Logloss : \" + str(log_loss(y_valid, y_valid_pred_proba))) # the labels in y_pred are assumed to be ordered alphabetically\n",
    "    print(\"Acccuracy : \" + str(accuracy_score(y_valid_pred, y_valid)))\n",
    "    \n",
    "    # Création et affichage de matrice de confusion normalisée\n",
    "    conf_mx = confusion_matrix(y_valid, y_valid_pred) # les classes sont classées par ordre alphabetique\n",
    "    conf_mx_normalized = np.array(list(map(lambda ligne : ligne/ligne.sum(), conf_mx)))\n",
    "    \n",
    "    plt.matshow(conf_mx_normalized, cmap=plt.cm.gray)\n",
    "    plt.xticks(range(9), range(1, 10))\n",
    "    plt.yticks(range(9), range(1, 10))\n",
    "    plt.title(\"Matrice de confusion normalisée \\n(sur le jeu de validation)\\n\")\n",
    "    plt.xlabel(\"Classe prédite\")\n",
    "    plt.ylabel(\"Classe réelle\")\n",
    "    plt.show()\n",
    "    \n",
    "    return(y_valid_pred_proba)"
   ]
  },
  {
   "cell_type": "markdown",
   "metadata": {},
   "source": [
    "### 2.2 Test sur différents modèles\n",
    "\n",
    "Nous allons tester plusieurs modèles :\n",
    "- SGDClassifier\n",
    "- Régression Logistique\n",
    "- Arbre de Décision\n",
    "- RandomForest\n",
    "\n",
    "Nous excluront les méthodes de deep learning car elles ne font pas l'objet du cours de TC1. De même, nous ne nous intéresseront pas aux SVM car sklearn.svm.SVC est quadratique en fonction du nombre de produits du jeu d'entraînement et sklearn.svm.LinearSVC n'a pas de méthode predict_proba, nécessaire au calcul de la logloss."
   ]
  },
  {
   "cell_type": "code",
   "execution_count": 13,
   "metadata": {},
   "outputs": [
    {
     "name": "stdout",
     "output_type": "stream",
     "text": [
      "JEU D'ENTRAÎNEMENT\n",
      "Logloss : 0.14249285340796997\n",
      "Acccuracy : 0.9999797987960083\n",
      "\n",
      "JEU DE VALIDATION\n",
      "Logloss : 0.649223078582847\n",
      "Acccuracy : 0.8087427278603749\n"
     ]
    },
    {
     "data": {
      "image/png": "[encoded data removed]",
      "text/plain": [
       "<matplotlib.figure.Figure at 0x270458e89b0>"
      ]
     },
     "metadata": {},
     "output_type": "display_data"
    },
    {
     "data": {
      "text/plain": [
       "array([[0.  , 0.74, 0.16, ..., 0.02, 0.04, 0.  ],\n",
       "       [0.06, 0.04, 0.  , ..., 0.02, 0.04, 0.  ],\n",
       "       [0.  , 0.9 , 0.08, ..., 0.  , 0.  , 0.  ],\n",
       "       ...,\n",
       "       [0.  , 0.96, 0.04, ..., 0.  , 0.  , 0.  ],\n",
       "       [0.  , 1.  , 0.  , ..., 0.  , 0.  , 0.  ],\n",
       "       [0.  , 0.46, 0.46, ..., 0.02, 0.  , 0.  ]])"
      ]
     },
     "execution_count": 13,
     "metadata": {},
     "output_type": "execute_result"
    }
   ],
   "source": [
    "rfc = RandomForestClassifier(n_estimators=50, random_state=42, n_jobs=-1)\n",
    "\n",
    "rfc.fit(X_train, y_train)\n",
    "\n",
    "print_performances(rfc)"
   ]
  },
  {
   "cell_type": "code",
   "execution_count": 14,
   "metadata": {},
   "outputs": [
    {
     "name": "stdout",
     "output_type": "stream",
     "text": [
      "JEU D'ENTRAÎNEMENT\n",
      "Logloss : 0.2758040465060346\n",
      "Acccuracy : 0.9749303058462284\n",
      "\n",
      "JEU DE VALIDATION\n",
      "Logloss : 0.6069193965950194\n",
      "Acccuracy : 0.8010665804783452\n"
     ]
    },
    {
     "data": {
      "image/png": "[encoded data removed]",
      "text/plain": [
       "<matplotlib.figure.Figure at 0x2704597f908>"
      ]
     },
     "metadata": {},
     "output_type": "display_data"
    },
    {
     "data": {
      "text/plain": [
       "array([[0.   , 0.776, 0.112, ..., 0.012, 0.016, 0.044],\n",
       "       [0.044, 0.016, 0.012, ..., 0.016, 0.016, 0.012],\n",
       "       [0.   , 0.816, 0.18 , ..., 0.   , 0.   , 0.004],\n",
       "       ...,\n",
       "       [0.004, 0.908, 0.068, ..., 0.   , 0.008, 0.   ],\n",
       "       [0.   , 0.968, 0.024, ..., 0.   , 0.   , 0.   ],\n",
       "       [0.012, 0.564, 0.372, ..., 0.008, 0.   , 0.   ]])"
      ]
     },
     "execution_count": 14,
     "metadata": {},
     "output_type": "execute_result"
    }
   ],
   "source": [
    "rfcbag = BaggingClassifier(rfc, n_estimators=5)\n",
    "rfcbag.fit(X_train, y_train)\n",
    "print_performances(rfcbag)"
   ]
  },
  {
   "cell_type": "code",
   "execution_count": 15,
   "metadata": {},
   "outputs": [
    {
     "name": "stdout",
     "output_type": "stream",
     "text": [
      "JEU D'ENTRAÎNEMENT\n",
      "Logloss : 0.11522057861532606\n",
      "Acccuracy : 0.9994343662882308\n",
      "\n",
      "JEU DE VALIDATION\n",
      "Logloss : 0.48875402850230165\n",
      "Acccuracy : 0.8206205559146735\n"
     ]
    },
    {
     "data": {
      "image/png": "[encoded data removed]",
      "text/plain": [
       "<matplotlib.figure.Figure at 0x27045900518>"
      ]
     },
     "metadata": {},
     "output_type": "display_data"
    }
   ],
   "source": [
    "from sklearn.calibration import CalibratedClassifierCV\n",
    "\n",
    "calibrated_rfc = CalibratedClassifierCV(rfc, method='isotonic', cv=5)\n",
    "\n",
    "calibrated_rfc.fit(X_train, y_train)\n",
    "\n",
    "L_calibrated_rfc = print_performances(calibrated_rfc)"
   ]
  },
  {
   "cell_type": "code",
   "execution_count": 16,
   "metadata": {},
   "outputs": [
    {
     "name": "stdout",
     "output_type": "stream",
     "text": [
      "[[7.03688643e-03 8.67355314e-01 1.08423924e-01 ... 1.82766469e-03\n",
      "  8.30128986e-04 2.20587272e-03]\n",
      " [2.80879060e-02 1.39143659e-03 1.08899401e-03 ... 4.67046338e-03\n",
      "  1.95148853e-03 6.55181602e-03]\n",
      " [1.01929040e-03 9.20929310e-01 7.28522662e-02 ... 1.74048289e-03\n",
      "  5.22792779e-04 5.06243003e-04]\n",
      " ...\n",
      " [1.05257963e-03 9.71804319e-01 1.67481508e-02 ... 3.85315594e-03\n",
      "  5.48151641e-04 5.28989787e-04]\n",
      " [1.05201681e-03 9.89768732e-01 2.63223813e-03 ... 1.80946045e-03\n",
      "  5.47334724e-04 5.26683185e-04]\n",
      " [1.62066269e-03 5.25945611e-01 4.45679933e-01 ... 5.50817443e-03\n",
      "  5.24905069e-04 5.04536620e-04]]\n"
     ]
    }
   ],
   "source": [
    "print(L_calibrated_rfc)"
   ]
  },
  {
   "cell_type": "code",
   "execution_count": 17,
   "metadata": {},
   "outputs": [
    {
     "name": "stdout",
     "output_type": "stream",
     "text": [
      "JEU D'ENTRAÎNEMENT\n",
      "Logloss : 0.6637377367369555\n",
      "Acccuracy : 0.7558482485556139\n",
      "\n",
      "JEU DE VALIDATION\n",
      "Logloss : 0.6675734281484841\n",
      "Acccuracy : 0.7569489334195216\n"
     ]
    },
    {
     "data": {
      "image/png": "[encoded data removed]",
      "text/plain": [
       "<matplotlib.figure.Figure at 0x27006a944e0>"
      ]
     },
     "metadata": {},
     "output_type": "display_data"
    },
    {
     "data": {
      "text/plain": [
       "array([[1.20185416e-05, 8.90681010e-01, 7.58147135e-02, ...,\n",
       "        2.04385314e-05, 9.45921758e-06, 6.49720580e-04],\n",
       "       [4.30584988e-02, 1.74309646e-01, 7.13603388e-02, ...,\n",
       "        3.15119014e-02, 4.78435397e-02, 3.14458611e-02],\n",
       "       [6.27396905e-04, 6.64157244e-01, 1.83948651e-01, ...,\n",
       "        1.71847864e-03, 5.50386923e-04, 1.89944152e-03],\n",
       "       ...,\n",
       "       [2.03402039e-03, 6.60710654e-01, 1.79058006e-01, ...,\n",
       "        8.98349727e-03, 2.72021330e-03, 5.38323977e-03],\n",
       "       [1.58432534e-03, 8.30610956e-01, 1.34415022e-01, ...,\n",
       "        1.48326618e-02, 5.36602980e-04, 6.62131215e-03],\n",
       "       [3.55244615e-03, 5.87873312e-01, 3.22428907e-01, ...,\n",
       "        1.20550660e-02, 4.65961724e-03, 4.31091778e-03]])"
      ]
     },
     "execution_count": 17,
     "metadata": {},
     "output_type": "execute_result"
    }
   ],
   "source": [
    "logreg = LogisticRegression()\n",
    "\n",
    "logreg.fit(X_train, y_train)\n",
    "\n",
    "print_performances(logreg)"
   ]
  },
  {
   "cell_type": "code",
   "execution_count": 18,
   "metadata": {},
   "outputs": [
    {
     "name": "stdout",
     "output_type": "stream",
     "text": [
      "Num Features: 45\n",
      "Selected Features: [False False  True False False False False  True  True False  True False\n",
      " False  True  True  True  True False False False False False False  True\n",
      "  True  True  True False False False False  True  True  True  True  True\n",
      " False  True  True  True False  True  True False False False False  True\n",
      " False  True False False  True  True False False  True False  True  True\n",
      " False  True False  True False False  True  True  True  True  True  True\n",
      " False False  True  True False  True False  True False False False False\n",
      "  True  True False  True False  True False False False]\n",
      "Feature Ranking: [ 4 33  1 10 43 49 39  1  1 28  1 41 15  1  1  1  1 18 29  8 31 11 34  1\n",
      "  1  1  1 37 27  5 46  1  1  1  1  1 13  1  1  1  6  1  1 21 30 16  2  1\n",
      " 40  1 47 36  1  1 19 14  1 17  1  1 20  1 35  1 32  3  1  1  1  1  1  1\n",
      " 24 22  1  1 38  1 23  1 44 45  9 48  1  1 12  1 25  1 26  7 42]\n"
     ]
    }
   ],
   "source": [
    "noOfFeature = 45\n",
    "\n",
    "from sklearn.feature_selection import RFE\n",
    "from sklearn.ensemble import RandomForestClassifier\n",
    "\n",
    "rfe = RFE(rfc, noOfFeature)\n",
    "fit = rfe.fit(X_train, y_train)\n",
    "\n",
    "print((\"Num Features: %d\") % fit.n_features_)\n",
    "print((\"Selected Features: %s\") % fit.support_)\n",
    "print((\"Feature Ranking: %s\") % fit.ranking_)"
   ]
  },
  {
   "cell_type": "code",
   "execution_count": 19,
   "metadata": {},
   "outputs": [
    {
     "name": "stdout",
     "output_type": "stream",
     "text": [
      "45\n",
      "['feat_3', 'feat_8', 'feat_9', 'feat_11', 'feat_14', 'feat_15', 'feat_16', 'feat_17', 'feat_24', 'feat_25', 'feat_26', 'feat_27', 'feat_32', 'feat_33', 'feat_34', 'feat_35', 'feat_36', 'feat_38', 'feat_39', 'feat_40', 'feat_42', 'feat_43', 'feat_48', 'feat_50', 'feat_53', 'feat_54', 'feat_57', 'feat_59', 'feat_60', 'feat_62', 'feat_64', 'feat_67', 'feat_68', 'feat_69', 'feat_70', 'feat_71', 'feat_72', 'feat_75', 'feat_76', 'feat_78', 'feat_80', 'feat_85', 'feat_86', 'feat_88', 'feat_90']\n"
     ]
    }
   ],
   "source": [
    "features = []\n",
    "Xcol=df_train.drop('target', 1)\n",
    "for i , j in zip(Xcol.columns,fit.support_):\n",
    "    if j == True:\n",
    "        features.append(str(i))\n",
    "\n",
    "print(len(features))\n",
    "print(features)"
   ]
  },
  {
   "cell_type": "code",
   "execution_count": 20,
   "metadata": {},
   "outputs": [],
   "source": [
    "from sklearn.model_selection import cross_val_score\n",
    "from xgboost import XGBClassifier\n",
    "from statistics import mean\n",
    "from scipy.optimize import minimize"
   ]
  },
  {
   "cell_type": "code",
   "execution_count": 21,
   "metadata": {},
   "outputs": [],
   "source": [
    "clf=XGBClassifier(base_score=0.5, colsample_bylevel=1, colsample_bytree=.8,subsample=0.5,\n",
    "       gamma=0, learning_rate=0.1, max_delta_step=0, max_depth=5,\n",
    "       missing=None, n_estimators=100, nthread=2,\n",
    "       objective='multi:softprob', reg_alpha=0, reg_lambda=1,\n",
    "       scale_pos_weight=1, seed=27, silent=True)\n",
    "scores = cross_val_score(clf,Xcol[features], y, cv=2)"
   ]
  },
  {
   "cell_type": "code",
   "execution_count": 22,
   "metadata": {},
   "outputs": [
    {
     "name": "stdout",
     "output_type": "stream",
     "text": [
      "[0.77690518 0.77870442]\n",
      "Accuracy: 0.7778047997306605\n"
     ]
    }
   ],
   "source": [
    "print(scores)\n",
    "print(\"Accuracy:\",np.mean(scores))"
   ]
  },
  {
   "cell_type": "code",
   "execution_count": 23,
   "metadata": {},
   "outputs": [
    {
     "name": "stdout",
     "output_type": "stream",
     "text": [
      "JEU D'ENTRAÎNEMENT\n",
      "Logloss : 0.6212024163004507\n",
      "Acccuracy : 0.8295826431255303\n",
      "\n",
      "JEU DE VALIDATION\n",
      "Logloss : 0.7786510332700958\n",
      "Acccuracy : 0.7487071751777634\n"
     ]
    },
    {
     "data": {
      "image/png": "[encoded data removed]",
      "text/plain": [
       "<matplotlib.figure.Figure at 0x27043717780>"
      ]
     },
     "metadata": {},
     "output_type": "display_data"
    },
    {
     "data": {
      "text/plain": [
       "array([[8.68454662e-03, 7.20103830e-01, 1.39548523e-01, ...,\n",
       "        6.76883780e-03, 1.64958286e-02, 1.53256705e-03],\n",
       "       [6.48753215e-03, 1.66465620e-03, 1.33747313e-03, ...,\n",
       "        5.26116135e-03, 8.82878649e-03, 1.06836769e-02],\n",
       "       [1.34729064e-02, 6.39179098e-01, 2.07723692e-01, ...,\n",
       "        1.63643077e-02, 1.06403528e-02, 2.18534069e-02],\n",
       "       ...,\n",
       "       [7.32600733e-03, 6.13716546e-01, 2.13340796e-01, ...,\n",
       "        6.80803826e-02, 4.76190476e-03, 4.02930403e-03],\n",
       "       [2.43727871e-03, 8.32087445e-01, 8.18090251e-02, ...,\n",
       "        5.89827717e-03, 3.11526480e-04, 6.23052960e-04],\n",
       "       [2.23463687e-03, 3.40437921e-01, 4.90957199e-01, ...,\n",
       "        2.08311089e-02, 1.21758848e-03, 6.22759346e-03]])"
      ]
     },
     "execution_count": 23,
     "metadata": {},
     "output_type": "execute_result"
    }
   ],
   "source": [
    "from sklearn.ensemble import RandomForestClassifier\n",
    "from imblearn.over_sampling import SMOTE, ADASYN    #Over sampling\n",
    "\n",
    "#X_resampled, y_resampled = SMOTE().fit_resample(X_train, y_train)\n",
    "\n",
    "\n",
    "forest_clf = RandomForestClassifier(random_state = 42, max_depth=25, min_samples_split=25 ) #, class_weight='balanced')\n",
    "forest_clf.fit(X_resampled, y_resampled)\n",
    "\n",
    "print_performances(forest_clf)"
   ]
  },
  {
   "cell_type": "code",
   "execution_count": 24,
   "metadata": {},
   "outputs": [
    {
     "name": "stdout",
     "output_type": "stream",
     "text": [
      "JEU D'ENTRAÎNEMENT\n",
      "Logloss : 0.6212024163004507\n",
      "Acccuracy : 0.8295826431255303\n",
      "\n",
      "JEU DE VALIDATION\n",
      "Logloss : 0.7786510332700958\n",
      "Acccuracy : 0.7487071751777634\n"
     ]
    },
    {
     "data": {
      "image/png": "[encoded data removed]",
      "text/plain": [
       "<matplotlib.figure.Figure at 0x27043706828>"
      ]
     },
     "metadata": {},
     "output_type": "display_data"
    },
    {
     "data": {
      "text/plain": [
       "array([[8.68454662e-03, 7.20103830e-01, 1.39548523e-01, ...,\n",
       "        6.76883780e-03, 1.64958286e-02, 1.53256705e-03],\n",
       "       [6.48753215e-03, 1.66465620e-03, 1.33747313e-03, ...,\n",
       "        5.26116135e-03, 8.82878649e-03, 1.06836769e-02],\n",
       "       [1.34729064e-02, 6.39179098e-01, 2.07723692e-01, ...,\n",
       "        1.63643077e-02, 1.06403528e-02, 2.18534069e-02],\n",
       "       ...,\n",
       "       [7.32600733e-03, 6.13716546e-01, 2.13340796e-01, ...,\n",
       "        6.80803826e-02, 4.76190476e-03, 4.02930403e-03],\n",
       "       [2.43727871e-03, 8.32087445e-01, 8.18090251e-02, ...,\n",
       "        5.89827717e-03, 3.11526480e-04, 6.23052960e-04],\n",
       "       [2.23463687e-03, 3.40437921e-01, 4.90957199e-01, ...,\n",
       "        2.08311089e-02, 1.21758848e-03, 6.22759346e-03]])"
      ]
     },
     "execution_count": 24,
     "metadata": {},
     "output_type": "execute_result"
    }
   ],
   "source": [
    "#X_resampled, y_resampled = ADASYN().fit_resample(X_train, y_train)\n",
    "\n",
    "\n",
    "forest_clf = RandomForestClassifier(random_state = 42, max_depth=25, min_samples_split=25 ) #, class_weight='balanced')\n",
    "forest_clf.fit(X_resampled, y_resampled)\n",
    "\n",
    "print_performances(forest_clf)"
   ]
  },
  {
   "cell_type": "code",
   "execution_count": 25,
   "metadata": {},
   "outputs": [
    {
     "name": "stdout",
     "output_type": "stream",
     "text": [
      "(116082,)\n",
      "[2 1 2 ... 8 8 8]\n"
     ]
    },
    {
     "data": {
      "image/png": "[encoded data removed]",
      "text/plain": [
       "<matplotlib.figure.Figure at 0x27004bdbb00>"
      ]
     },
     "metadata": {},
     "output_type": "display_data"
    }
   ],
   "source": [
    "print(y_resampled.shape)\n",
    "print(y_resampled)\n",
    "\n",
    "from collections import Counter\n",
    "count = Counter(cat for cat in y_resampled)\n",
    "d_count=dict(count)\n",
    "\n",
    "plt.bar(list(d_count.keys()), d_count.values(), color='g')\n",
    "plt.show()"
   ]
  },
  {
   "cell_type": "markdown",
   "metadata": {},
   "source": [
    "# TEST EXEMPLES"
   ]
  },
  {
   "cell_type": "markdown",
   "metadata": {},
   "source": [
    "### XGBOOST"
   ]
  },
  {
   "cell_type": "code",
   "execution_count": 26,
   "metadata": {},
   "outputs": [
    {
     "name": "stdout",
     "output_type": "stream",
     "text": [
      "[2 1 2 ... 1 5 5]\n",
      "log_loss xgboost train  0.10228561976234958\n",
      "precision xgboost train  0.9807886550038383\n",
      "log_loss xgboost val  0.48751471527939577\n",
      "precision xgboost val  0.8195701357466063\n"
     ]
    },
    {
     "data": {
      "image/png": "[encoded data removed]",
      "text/plain": [
       "<matplotlib.figure.Figure at 0x27043688b00>"
      ]
     },
     "metadata": {},
     "output_type": "display_data"
    }
   ],
   "source": [
    "import xgboost as xgb\n",
    "print(y_train)\n",
    "dtrain = xgb.DMatrix(X_train, y_train)\n",
    "dvalid = xgb.DMatrix(X_valid)\n",
    "\n",
    "param = {\n",
    "        'booster': 'gbtree',\n",
    "\n",
    "   ' learning_rate': 0.01,\n",
    "    'max_depth': 14,  # the maximum depth of each tree\n",
    "    'eta': 0.3,  # the training step for each iteration\n",
    "    'silent': 1,  # logging mode - quiet\n",
    "    'objective': 'multi:softprob',  #  softprob pour récuper proba , softmax pour récuperer directement les classes\n",
    "    'eval_metric':'mlogloss',  # metrics multi class log_loss\n",
    "    'scale_pos_weight': 1 , # par défault égale à 1 mais utile pour les unbalanced data\n",
    "    'num_class': 9}  # the number of classes that exist in this datset\n",
    "\n",
    "num_round = 50  # the number of training iterations\n",
    "bst = xgb.train(param, dtrain, num_round)\n",
    "\n",
    "# make prediction\n",
    "preds = bst.predict(dvalid)\n",
    "preds_train= bst.predict(dtrain)\n",
    "\n",
    "# train \n",
    "print ('log_loss xgboost train ' , log_loss(y_train, preds_train, eps=1e-15, normalize=True, sample_weight=None, labels=None))\n",
    "print('precision xgboost train ', (np.argmax(preds_train, axis= 1 )==y_train).mean())\n",
    "\n",
    "\n",
    "# validation \n",
    "print ('log_loss xgboost val ' , log_loss(y_valid, preds, eps=1e-15, normalize=True, sample_weight=None, labels=None))\n",
    "print('precision xgboost val ', (np.argmax(preds, axis= 1 )==y_valid).mean())\n",
    "\n",
    "y_pred= np.argmax(preds, axis= 1 )\n",
    "array = confusion_matrix(y_valid, y_pred)\n",
    "array = array.astype('float') / array.sum(axis=1)[:, np.newaxis]\n",
    "\n",
    "\n",
    "df_cm = pd.DataFrame(array, index = list(range(1,10)) , columns = list(range(1,10)))\n",
    "plt.figure(figsize = (10,10))\n",
    "plt.xlabel(\"Classe prédite\")\n",
    "plt.ylabel(\"Classe réelle\")\n",
    "sn.heatmap(df_cm, annot=True)\n",
    "plt.show()"
   ]
  },
  {
   "cell_type": "code",
   "execution_count": 27,
   "metadata": {},
   "outputs": [],
   "source": [
    "preds_xgboost_woutsmote= preds"
   ]
  },
  {
   "cell_type": "markdown",
   "metadata": {},
   "source": [
    "### Xgboost avec SMOTE"
   ]
  },
  {
   "cell_type": "code",
   "execution_count": 28,
   "metadata": {},
   "outputs": [
    {
     "name": "stdout",
     "output_type": "stream",
     "text": [
      "log_loss xgboost + Smote train   0.20266848798160209\n",
      "precision xgboost + Smote train  0.9431091814407057\n",
      "log_loss xgboost + Smote val  0.5565597623541405\n",
      "precision xgboost + Smote val  0.7881383322559793\n"
     ]
    },
    {
     "data": {
      "image/png": "[encoded data removed]",
      "text/plain": [
       "<matplotlib.figure.Figure at 0x27043681518>"
      ]
     },
     "metadata": {},
     "output_type": "display_data"
    }
   ],
   "source": [
    "#Avec SMOTE oversampling \n",
    "\n",
    "from sklearn.metrics import log_loss\n",
    "\n",
    "#encode into number \n",
    "y_valid_num = LabelEncoder().fit_transform(y_valid)  #0 correspond à classe 1 , 1 à classe 2 ... suffit de faire +1 sur les labels\n",
    "y_train_num = LabelEncoder().fit_transform(y_train)\n",
    "\n",
    "#X_resampled, y_resampled = SMOTE().fit_resample(X_train, y_train_num)\n",
    "\n",
    "# read in data\n",
    "dtrain = xgb.DMatrix(X_resampled, y_resampled)\n",
    "dtest = xgb.DMatrix(X_valid)\n",
    "\n",
    "param = {\n",
    "        'booster': 'gbtree',\n",
    "\n",
    "   ' learning_rate': 0.01,\n",
    "    'max_depth': 10,  # the maximum depth of each tree\n",
    "    'eta': 0.3,  # the training step for each iteration\n",
    "    'silent': 1,  # logging mode - quiet\n",
    "    'objective': 'multi:softprob',  #  softprob pour récuper proba , softmax pour récuperer directement les classes\n",
    "    'eval_metric':'mlogloss',  # metrics multi class log_loss\n",
    "\n",
    "    'num_class': 9}  # the number of classes that exist in this datset\n",
    "\n",
    "num_round = 50  # the number of training iterations\n",
    "bst = xgb.train(param, dtrain, num_round)\n",
    "# make prediction\n",
    "preds = bst.predict(dtest)\n",
    "preds_train= bst.predict(dtrain)\n",
    "\n",
    "# train \n",
    "print ('log_loss xgboost + Smote train  ' , log_loss(y_resampled, preds_train, eps=1e-15, normalize=True, sample_weight=None, labels=None))\n",
    "print('precision xgboost + Smote train ', (np.argmax(preds_train, axis= 1 )==y_resampled).mean())\n",
    "\n",
    "#val\n",
    "log_loss(y_valid_num, preds, eps=1e-15, normalize=True, sample_weight=None, labels=None)\n",
    "print(\"log_loss xgboost + Smote val \",log_loss(y_valid_num, preds, eps=1e-15, normalize=True, sample_weight=None, labels=None))\n",
    "print(\"precision xgboost + Smote val \",(np.argmax(preds, axis= 1 )==y_valid_num).mean())\n",
    "\n",
    "#Resultat après over sampling SMOTE , pas ultra bénéfique \n",
    "y_pred= np.argmax(preds, axis= 1 )\n",
    "y_test = y_valid_num\n",
    "array = confusion_matrix(y_test, y_pred)\n",
    "array = array.astype('float') / array.sum(axis=1)[:, np.newaxis]\n",
    "\n",
    "\n",
    "df_cm = pd.DataFrame(array, index = list(range(1,10)) , columns = list(range(1,10)))\n",
    "plt.figure(figsize = (10,10))\n",
    "sn.heatmap(df_cm, annot=True)\n",
    "plt.show()"
   ]
  },
  {
   "cell_type": "code",
   "execution_count": 29,
   "metadata": {},
   "outputs": [
    {
     "name": "stdout",
     "output_type": "stream",
     "text": [
      "[[5.64524496e-04 9.91260469e-01 4.52351710e-03 ... 7.30481624e-05\n",
      "  5.27918164e-04 2.09382735e-03]\n",
      " [4.26305400e-04 1.88917038e-04 8.76032573e-05 ... 2.56438798e-04\n",
      "  2.16401822e-04 4.41715092e-04]\n",
      " [2.27581616e-03 9.06359076e-01 8.45909268e-02 ... 1.32511416e-03\n",
      "  7.98132736e-04 1.35040330e-03]\n",
      " ...\n",
      " [2.48890312e-04 9.58785713e-01 2.03214213e-02 ... 1.47043797e-03\n",
      "  7.37830880e-04 3.50286515e-04]\n",
      " [2.84559472e-04 9.68584239e-01 1.23529229e-02 ... 3.32576525e-03\n",
      "  1.02979655e-04 3.72157723e-04]\n",
      " [1.59261550e-03 5.54096460e-01 3.61978292e-01 ... 2.05439385e-02\n",
      "  1.33444811e-03 1.64734886e-03]]\n"
     ]
    }
   ],
   "source": [
    "pred_xgboost = preds\n",
    "print(pred_xgboost)"
   ]
  },
  {
   "cell_type": "markdown",
   "metadata": {},
   "source": [
    "### Neural Network"
   ]
  },
  {
   "cell_type": "code",
   "execution_count": 30,
   "metadata": {},
   "outputs": [
    {
     "name": "stderr",
     "output_type": "stream",
     "text": [
      "Using TensorFlow backend.\n"
     ]
    },
    {
     "name": "stdout",
     "output_type": "stream",
     "text": [
      "(116082, 93) (116082,)\n"
     ]
    }
   ],
   "source": [
    "# Neural Network\n",
    "from keras.utils import to_categorical\n",
    "\n",
    "print(X_resampled.shape, y_resampled.shape)\n",
    "\n",
    "#x_train, y_train = X_resampled, y_resampled\n",
    "\n",
    "y_resampled = to_categorical(y_resampled)\n",
    "y_valid = to_categorical(y_valid)"
   ]
  },
  {
   "cell_type": "code",
   "execution_count": 34,
   "metadata": {},
   "outputs": [],
   "source": [
    "from keras import models\n",
    "from keras import layers\n",
    "from keras.layers import Dense, Dropout, Activation\n",
    "from keras.optimizers import SGD\n",
    "\n",
    "\n",
    "model = models.Sequential()\n",
    "model.add(layers.Dense(128, activation='relu', input_shape=(93,)))\n",
    "#model.add(Dropout(0.5))\n",
    "model.add(layers.Dense(128, activation='relu'))\n",
    "model.add(layers.Dense(128, activation='relu'))\n",
    "model.add(Dropout(0.5))\n",
    "\n",
    "model.add(layers.Dense(9, activation='softmax'))"
   ]
  },
  {
   "cell_type": "code",
   "execution_count": 35,
   "metadata": {},
   "outputs": [],
   "source": [
    "x_train, y_train = X_resampled, y_resampled\n",
    "x_val = x_train[:1000,:]\n",
    "partial_x_train = x_train[1000:,:]\n",
    "y_val = y_train[:1000, :]\n",
    "partial_y_train = y_train[1000:,:]"
   ]
  },
  {
   "cell_type": "code",
   "execution_count": 36,
   "metadata": {},
   "outputs": [
    {
     "name": "stdout",
     "output_type": "stream",
     "text": [
      "Train on 115082 samples, validate on 1000 samples\n",
      "Epoch 1/60\n",
      "115082/115082 [==============================] - 3s 22us/step - loss: 0.8651 - acc: 0.6824 - val_loss: 0.6903 - val_acc: 0.7330\n",
      "Epoch 2/60\n",
      "115082/115082 [==============================] - 2s 20us/step - loss: 0.6320 - acc: 0.7592 - val_loss: 0.6303 - val_acc: 0.7420\n",
      "Epoch 3/60\n",
      "115082/115082 [==============================] - 2s 20us/step - loss: 0.5764 - acc: 0.7792 - val_loss: 0.5876 - val_acc: 0.7620\n",
      "Epoch 4/60\n",
      "115082/115082 [==============================] - 2s 18us/step - loss: 0.5374 - acc: 0.7940 - val_loss: 0.5844 - val_acc: 0.7530\n",
      "Epoch 5/60\n",
      "115082/115082 [==============================] - 2s 19us/step - loss: 0.5074 - acc: 0.8042 - val_loss: 0.5752 - val_acc: 0.7580\n",
      "Epoch 6/60\n",
      "115082/115082 [==============================] - 2s 20us/step - loss: 0.4853 - acc: 0.8134 - val_loss: 0.5324 - val_acc: 0.7730\n",
      "Epoch 7/60\n",
      "115082/115082 [==============================] - 2s 20us/step - loss: 0.4640 - acc: 0.8219 - val_loss: 0.5421 - val_acc: 0.7610\n",
      "Epoch 8/60\n",
      "115082/115082 [==============================] - 2s 17us/step - loss: 0.4476 - acc: 0.8275 - val_loss: 0.5503 - val_acc: 0.7700\n",
      "Epoch 9/60\n",
      "115082/115082 [==============================] - 2s 21us/step - loss: 0.4345 - acc: 0.8336 - val_loss: 0.5091 - val_acc: 0.7850\n",
      "Epoch 10/60\n",
      "115082/115082 [==============================] - 2s 20us/step - loss: 0.4221 - acc: 0.8393 - val_loss: 0.5134 - val_acc: 0.7880\n",
      "Epoch 11/60\n",
      "115082/115082 [==============================] - 3s 22us/step - loss: 0.4108 - acc: 0.8425 - val_loss: 0.5420 - val_acc: 0.7780\n",
      "Epoch 12/60\n",
      "115082/115082 [==============================] - 2s 19us/step - loss: 0.4007 - acc: 0.8467 - val_loss: 0.5384 - val_acc: 0.7800\n",
      "Epoch 13/60\n",
      "115082/115082 [==============================] - 2s 19us/step - loss: 0.3903 - acc: 0.8490 - val_loss: 0.5291 - val_acc: 0.7850\n",
      "Epoch 14/60\n",
      "115082/115082 [==============================] - 2s 20us/step - loss: 0.3826 - acc: 0.8522 - val_loss: 0.5228 - val_acc: 0.7900\n",
      "Epoch 15/60\n",
      "115082/115082 [==============================] - 2s 20us/step - loss: 0.3752 - acc: 0.8557 - val_loss: 0.5087 - val_acc: 0.8020\n",
      "Epoch 16/60\n",
      "115082/115082 [==============================] - 2s 19us/step - loss: 0.3661 - acc: 0.8597 - val_loss: 0.5341 - val_acc: 0.7870\n",
      "Epoch 17/60\n",
      "115082/115082 [==============================] - 2s 20us/step - loss: 0.3613 - acc: 0.8616 - val_loss: 0.4905 - val_acc: 0.8040\n",
      "Epoch 18/60\n",
      "115082/115082 [==============================] - 2s 20us/step - loss: 0.3533 - acc: 0.8651 - val_loss: 0.5059 - val_acc: 0.7960\n",
      "Epoch 19/60\n",
      "115082/115082 [==============================] - 2s 20us/step - loss: 0.3489 - acc: 0.8661 - val_loss: 0.5323 - val_acc: 0.7920\n",
      "Epoch 20/60\n",
      "115082/115082 [==============================] - 2s 21us/step - loss: 0.3410 - acc: 0.8685 - val_loss: 0.5156 - val_acc: 0.8070\n",
      "Epoch 21/60\n",
      "115082/115082 [==============================] - 2s 21us/step - loss: 0.3369 - acc: 0.8703 - val_loss: 0.5495 - val_acc: 0.7830\n",
      "Epoch 22/60\n",
      "115082/115082 [==============================] - 2s 17us/step - loss: 0.3304 - acc: 0.8729 - val_loss: 0.5243 - val_acc: 0.8060\n",
      "Epoch 23/60\n",
      "115082/115082 [==============================] - 2s 17us/step - loss: 0.3270 - acc: 0.8737 - val_loss: 0.5560 - val_acc: 0.7920\n",
      "Epoch 24/60\n",
      "115082/115082 [==============================] - 2s 17us/step - loss: 0.3218 - acc: 0.8763 - val_loss: 0.5351 - val_acc: 0.7880\n",
      "Epoch 25/60\n",
      "115082/115082 [==============================] - 2s 17us/step - loss: 0.3173 - acc: 0.8782 - val_loss: 0.5362 - val_acc: 0.8000\n",
      "Epoch 26/60\n",
      "115082/115082 [==============================] - 2s 20us/step - loss: 0.3122 - acc: 0.8803 - val_loss: 0.5766 - val_acc: 0.7780\n",
      "Epoch 27/60\n",
      "115082/115082 [==============================] - 3s 24us/step - loss: 0.3084 - acc: 0.8809 - val_loss: 0.4929 - val_acc: 0.8140\n",
      "Epoch 28/60\n",
      "115082/115082 [==============================] - 3s 24us/step - loss: 0.3052 - acc: 0.8810 - val_loss: 0.5488 - val_acc: 0.7920\n",
      "Epoch 29/60\n",
      "115082/115082 [==============================] - 2s 19us/step - loss: 0.3006 - acc: 0.8828 - val_loss: 0.5557 - val_acc: 0.7860\n",
      "Epoch 30/60\n",
      "115082/115082 [==============================] - 2s 17us/step - loss: 0.2977 - acc: 0.8849 - val_loss: 0.5862 - val_acc: 0.7880\n",
      "Epoch 31/60\n",
      "115082/115082 [==============================] - 2s 19us/step - loss: 0.2954 - acc: 0.8856 - val_loss: 0.5527 - val_acc: 0.7930\n",
      "Epoch 32/60\n",
      "115082/115082 [==============================] - 2s 21us/step - loss: 0.2929 - acc: 0.8872 - val_loss: 0.5151 - val_acc: 0.8230\n",
      "Epoch 33/60\n",
      "115082/115082 [==============================] - 2s 20us/step - loss: 0.2889 - acc: 0.8880 - val_loss: 0.5490 - val_acc: 0.8090\n",
      "Epoch 34/60\n",
      "115082/115082 [==============================] - 2s 20us/step - loss: 0.2847 - acc: 0.8901 - val_loss: 0.5609 - val_acc: 0.8170\n",
      "Epoch 35/60\n",
      "115082/115082 [==============================] - 2s 18us/step - loss: 0.2818 - acc: 0.8915 - val_loss: 0.5643 - val_acc: 0.8090\n",
      "Epoch 36/60\n",
      "115082/115082 [==============================] - 2s 19us/step - loss: 0.2791 - acc: 0.8909 - val_loss: 0.5369 - val_acc: 0.8230\n",
      "Epoch 37/60\n",
      "115082/115082 [==============================] - 2s 20us/step - loss: 0.2775 - acc: 0.8923 - val_loss: 0.5334 - val_acc: 0.8010\n",
      "Epoch 38/60\n",
      "115082/115082 [==============================] - 2s 20us/step - loss: 0.2727 - acc: 0.8942 - val_loss: 0.5445 - val_acc: 0.8250\n",
      "Epoch 39/60\n",
      "115082/115082 [==============================] - 2s 18us/step - loss: 0.2727 - acc: 0.8943 - val_loss: 0.5340 - val_acc: 0.8280\n",
      "Epoch 40/60\n",
      "115082/115082 [==============================] - 2s 18us/step - loss: 0.2701 - acc: 0.8949 - val_loss: 0.5312 - val_acc: 0.8260\n",
      "Epoch 41/60\n",
      "115082/115082 [==============================] - 2s 18us/step - loss: 0.2675 - acc: 0.8958 - val_loss: 0.5846 - val_acc: 0.8090\n",
      "Epoch 42/60\n",
      "115082/115082 [==============================] - 2s 18us/step - loss: 0.2649 - acc: 0.8975 - val_loss: 0.5179 - val_acc: 0.8260\n",
      "Epoch 43/60\n",
      "115082/115082 [==============================] - 2s 19us/step - loss: 0.2626 - acc: 0.8968 - val_loss: 0.5109 - val_acc: 0.8410\n",
      "Epoch 44/60\n",
      "115082/115082 [==============================] - 2s 20us/step - loss: 0.2612 - acc: 0.8987 - val_loss: 0.5796 - val_acc: 0.8230\n",
      "Epoch 45/60\n",
      "115082/115082 [==============================] - 2s 19us/step - loss: 0.2609 - acc: 0.8982 - val_loss: 0.5492 - val_acc: 0.8150\n",
      "Epoch 46/60\n",
      "115082/115082 [==============================] - 2s 21us/step - loss: 0.2605 - acc: 0.8988 - val_loss: 0.5592 - val_acc: 0.8160\n",
      "Epoch 47/60\n",
      "115082/115082 [==============================] - 2s 19us/step - loss: 0.2567 - acc: 0.9002 - val_loss: 0.5718 - val_acc: 0.8230\n",
      "Epoch 48/60\n",
      "115082/115082 [==============================] - 2s 20us/step - loss: 0.2559 - acc: 0.9000 - val_loss: 0.6374 - val_acc: 0.7960\n",
      "Epoch 49/60\n",
      "115082/115082 [==============================] - 2s 18us/step - loss: 0.2542 - acc: 0.9013 - val_loss: 0.6104 - val_acc: 0.8030\n",
      "Epoch 50/60\n",
      "115082/115082 [==============================] - 2s 20us/step - loss: 0.2522 - acc: 0.9023 - val_loss: 0.5816 - val_acc: 0.8080\n",
      "Epoch 51/60\n",
      "115082/115082 [==============================] - 2s 19us/step - loss: 0.2513 - acc: 0.9025 - val_loss: 0.6701 - val_acc: 0.7900\n",
      "Epoch 52/60\n",
      "115082/115082 [==============================] - 3s 23us/step - loss: 0.2484 - acc: 0.9030 - val_loss: 0.7112 - val_acc: 0.7900\n",
      "Epoch 53/60\n",
      "115082/115082 [==============================] - 2s 21us/step - loss: 0.2483 - acc: 0.9033 - val_loss: 0.6473 - val_acc: 0.8030\n",
      "Epoch 54/60\n",
      "115082/115082 [==============================] - 2s 20us/step - loss: 0.2469 - acc: 0.9044 - val_loss: 0.6004 - val_acc: 0.8160\n",
      "Epoch 55/60\n",
      "115082/115082 [==============================] - 2s 21us/step - loss: 0.2456 - acc: 0.9044 - val_loss: 0.6197 - val_acc: 0.8090\n",
      "Epoch 56/60\n",
      "115082/115082 [==============================] - 2s 19us/step - loss: 0.2424 - acc: 0.9053 - val_loss: 0.6090 - val_acc: 0.8160\n",
      "Epoch 57/60\n",
      "115082/115082 [==============================] - 2s 19us/step - loss: 0.2435 - acc: 0.9054 - val_loss: 0.6329 - val_acc: 0.8130\n",
      "Epoch 58/60\n",
      "115082/115082 [==============================] - 2s 19us/step - loss: 0.2396 - acc: 0.9063 - val_loss: 0.6249 - val_acc: 0.8140\n",
      "Epoch 59/60\n"
     ]
    },
    {
     "name": "stdout",
     "output_type": "stream",
     "text": [
      "115082/115082 [==============================] - 2s 18us/step - loss: 0.2411 - acc: 0.9048 - val_loss: 0.6429 - val_acc: 0.8100\n",
      "Epoch 60/60\n",
      "115082/115082 [==============================] - 2s 18us/step - loss: 0.2410 - acc: 0.9058 - val_loss: 0.6894 - val_acc: 0.7950\n"
     ]
    }
   ],
   "source": [
    "from keras.optimizers import RMSprop\n",
    "rms =RMSprop(lr=0.001, rho=0.9, epsilon=None, decay=0.0)\n",
    "model.compile(optimizer=rms, loss='categorical_crossentropy', metrics=['accuracy'])  #optimizer='rmsprop'\n",
    "\n",
    "history = model.fit(partial_x_train, partial_y_train, epochs=60, batch_size=512, validation_data=(x_val, y_val))"
   ]
  },
  {
   "cell_type": "code",
   "execution_count": 37,
   "metadata": {},
   "outputs": [
    {
     "data": {
      "text/plain": [
       "0.7462831286360698"
      ]
     },
     "execution_count": 37,
     "metadata": {},
     "output_type": "execute_result"
    }
   ],
   "source": [
    "y_pred = model.predict(X_valid)\n",
    "np.mean(np.argmax(y_pred, axis=1)==np.argmax(y_valid, axis=1))"
   ]
  },
  {
   "cell_type": "code",
   "execution_count": 38,
   "metadata": {},
   "outputs": [],
   "source": [
    "weights = model.layers[0].get_weights()[0]\n",
    "biases = model.layers[0].get_weights()[1]"
   ]
  },
  {
   "cell_type": "code",
   "execution_count": 39,
   "metadata": {},
   "outputs": [
    {
     "data": {
      "text/plain": [
       "array([ -0.04075885,   1.5232269 ,   3.3008678 ,   4.112608  ,\n",
       "        -3.063424  ,   3.2205276 ,   0.36914575,  -5.6432924 ,\n",
       "        -5.585807  ,  -1.6737154 ,   5.550315  ,   1.7623348 ,\n",
       "        -1.1195958 ,  -2.8107493 ,  -3.0505896 ,   1.9482684 ,\n",
       "        -3.1848855 ,   0.7080072 ,   6.651344  ,   2.7095647 ,\n",
       "        -2.4730158 ,  -2.3227267 ,   0.4388675 ,   1.7823546 ,\n",
       "        -1.9890373 ,  -2.330994  ,   4.2254353 ,   1.1907022 ,\n",
       "        -0.56102   ,   2.4585807 ,   1.6660343 ,  -1.6865723 ,\n",
       "        -0.7473952 ,   4.5885406 ,   0.731024  ,  -3.556724  ,\n",
       "         0.3115896 ,   2.834159  ,   2.5556924 ,  -2.9581575 ,\n",
       "         0.9587286 ,  -2.387631  ,  -6.6038427 ,   0.4206167 ,\n",
       "         3.9219434 ,   3.3604283 ,  -2.254951  ,  -5.2219715 ,\n",
       "         0.7793678 ,  -3.3398476 ,  -0.9022359 ,  -0.45415047,\n",
       "        -7.8669405 ,  -0.61034596,  -4.4022307 ,  -4.609505  ,\n",
       "         0.41676128,  -2.9397378 ,  -1.6107925 , -11.283295  ,\n",
       "         2.1744554 ,  -1.6117728 ,  -3.3849897 ,  -5.5008736 ,\n",
       "         1.1001858 ,  -0.20154834,   0.546206  ,  -2.244751  ,\n",
       "         0.5061565 ,  -2.1943543 ,  -0.994743  ,  -1.6553165 ,\n",
       "         0.48018694,  -0.2819953 ,  -2.6524193 ,   0.9334093 ,\n",
       "         4.3012066 ,  -6.0346823 ,  -0.6103953 ,   1.3455154 ,\n",
       "         1.7087312 ,   0.807842  ,  -2.0450835 ,   6.9007225 ,\n",
       "        -2.602125  ,  -6.2744474 ,  -1.1411114 ,  -4.589858  ,\n",
       "        -0.3136033 ,  -0.9331306 ,  -2.188577  ,  -0.97390735,\n",
       "        -0.03049076], dtype=float32)"
      ]
     },
     "execution_count": 39,
     "metadata": {},
     "output_type": "execute_result"
    }
   ],
   "source": [
    "np.sum(weights,axis=1)"
   ]
  },
  {
   "cell_type": "code",
   "execution_count": 40,
   "metadata": {},
   "outputs": [
    {
     "name": "stdout",
     "output_type": "stream",
     "text": [
      "[[2.8399447e-21 9.9997580e-01 2.1338052e-05 ... 8.6598440e-32\n",
      "  4.6954224e-14 2.8339327e-06]\n",
      " [6.1445027e-18 1.0454326e-13 8.3634362e-18 ... 2.9496445e-14\n",
      "  4.4969071e-14 6.1055101e-17]\n",
      " [1.5386808e-11 9.6023530e-01 3.9764632e-02 ... 3.7823706e-11\n",
      "  5.0743076e-10 2.0047210e-08]\n",
      " ...\n",
      " [3.1891403e-13 7.4422228e-01 2.5351205e-01 ... 1.0606526e-07\n",
      "  7.0996664e-10 3.5562866e-08]\n",
      " [2.9449504e-15 9.4886583e-01 5.0403699e-02 ... 1.2889521e-13\n",
      "  3.5203018e-16 2.1714350e-13]\n",
      " [3.5996333e-02 4.9954110e-01 3.6589581e-01 ... 7.6768577e-02\n",
      "  3.7408189e-03 7.9917191e-03]]\n"
     ]
    }
   ],
   "source": [
    "nn_pred=y_pred\n",
    "print(nn_pred)"
   ]
  },
  {
   "cell_type": "code",
   "execution_count": 41,
   "metadata": {},
   "outputs": [
    {
     "data": {
      "image/png": "[encoded data removed]",
      "text/plain": [
       "<matplotlib.figure.Figure at 0x27004d22240>"
      ]
     },
     "metadata": {},
     "output_type": "display_data"
    }
   ],
   "source": [
    "#Resultat après over sampling SMOTE Neural Network \n",
    "y_pred1= np.argmax(y_pred, axis=1)\n",
    "y_valid1 = np.argmax(y_valid, axis=1)\n",
    "array = confusion_matrix(y_valid1, y_pred1)\n",
    "array = array.astype('float') / array.sum(axis=1)[:, np.newaxis]\n",
    "\n",
    "\n",
    "df_cm = pd.DataFrame(array, index = list(range(1,10)) , columns = list(range(1,10)))\n",
    "plt.figure(figsize = (10,10))\n",
    "sn.heatmap(df_cm, annot=True)\n",
    "plt.show()"
   ]
  },
  {
   "cell_type": "markdown",
   "metadata": {},
   "source": [
    "### Combinaisons linéaires de modèles "
   ]
  },
  {
   "cell_type": "code",
   "execution_count": 42,
   "metadata": {},
   "outputs": [
    {
     "name": "stdout",
     "output_type": "stream",
     "text": [
      "4\n"
     ]
    }
   ],
   "source": [
    "predictions = []\n",
    "predictions.append(nn_pred)\n",
    "predictions.append(pred_xgboost)\n",
    "predictions.append(preds_xgboost_woutsmote)\n",
    "predictions.append(L_calibrated_rfc)\n",
    "print(len(predictions))"
   ]
  },
  {
   "cell_type": "code",
   "execution_count": 43,
   "metadata": {},
   "outputs": [
    {
     "name": "stdout",
     "output_type": "stream",
     "text": [
      "[0 0 0 ... 8 8 8]\n",
      "[1 4 1 ... 1 1 1]\n"
     ]
    }
   ],
   "source": [
    "print(y)\n",
    "X_train, X_valid, y_train, y_valid = train_test_split(X, y, test_size=0.2, random_state=42, stratify = y)\n",
    "print(y_valid)"
   ]
  },
  {
   "cell_type": "code",
   "execution_count": 44,
   "metadata": {},
   "outputs": [],
   "source": [
    "def log_loss_func(weights):\n",
    "    ''' scipy minimize will pass the weights as a numpy array '''\n",
    "    final_prediction = 0\n",
    "    for weight, prediction in zip(weights, predictions):\n",
    "            final_prediction += weight*prediction\n",
    "    return log_loss(y_valid, final_prediction)"
   ]
  },
  {
   "cell_type": "code",
   "execution_count": 45,
   "metadata": {},
   "outputs": [],
   "source": [
    "starting_values = [0.5]*len(predictions)\n",
    "cons = ({'type':'eq','fun':lambda w: 1-sum(w)})\n",
    "bounds = [(0,1)]*len(predictions)"
   ]
  },
  {
   "cell_type": "code",
   "execution_count": 46,
   "metadata": {},
   "outputs": [],
   "source": [
    "res = minimize(log_loss_func, starting_values, method='SLSQP', bounds=bounds, constraints=cons)"
   ]
  },
  {
   "cell_type": "code",
   "execution_count": 47,
   "metadata": {},
   "outputs": [
    {
     "name": "stdout",
     "output_type": "stream",
     "text": [
      "     fun: 0.4533672783546637\n",
      "     jac: array([0.05950908, 0.0640731 , 0.1222256 , 0.00551723])\n",
      " message: 'Optimization terminated successfully.'\n",
      "    nfev: 41\n",
      "     nit: 5\n",
      "    njev: 5\n",
      "  status: 0\n",
      " success: True\n",
      "       x: array([0.10048516, 0.14592276, 0.45566057, 0.29793151])\n"
     ]
    }
   ],
   "source": [
    "print(res)"
   ]
  },
  {
   "cell_type": "code",
   "execution_count": 48,
   "metadata": {},
   "outputs": [
    {
     "name": "stdout",
     "output_type": "stream",
     "text": [
      "Ensemble Score: 0.4533672783546637\n",
      "Best Weights: [0.10048516 0.14592276 0.45566057 0.29793151]\n"
     ]
    }
   ],
   "source": [
    "# 0.45 avec 93 features , 0.46 avec 70 features ayant le + fort taux de corrélations k_best , 0.50 avec ACP 70 axe\n",
    "print('Ensemble Score: {best_score}'.format(best_score=res['fun']))\n",
    "print('Best Weights: {weights}'.format(weights=res['x']))"
   ]
  },
  {
   "cell_type": "code",
   "execution_count": null,
   "metadata": {},
   "outputs": [],
   "source": []
  },
  {
   "cell_type": "code",
   "execution_count": null,
   "metadata": {},
   "outputs": [],
   "source": []
  },
  {
   "cell_type": "code",
   "execution_count": null,
   "metadata": {
    "collapsed": true
   },
   "outputs": [],
   "source": []
  },
  {
   "cell_type": "code",
   "execution_count": null,
   "metadata": {
    "collapsed": true
   },
   "outputs": [],
   "source": []
  },
  {
   "cell_type": "code",
   "execution_count": null,
   "metadata": {
    "collapsed": true
   },
   "outputs": [],
   "source": []
  }
 ],
 "metadata": {
  "kernelspec": {
   "display_name": "Python 3",
   "language": "python",
   "name": "python3"
  },
  "language_info": {
   "codemirror_mode": {
    "name": "ipython",
    "version": 3
   },
   "file_extension": ".py",
   "mimetype": "text/x-python",
   "name": "python",
   "nbconvert_exporter": "python",
   "pygments_lexer": "ipython3",
   "version": "3.6.4"
  }
 },
 "nbformat": 4,
 "nbformat_minor": 2
}
